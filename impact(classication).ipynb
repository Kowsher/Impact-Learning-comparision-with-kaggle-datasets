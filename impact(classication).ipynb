{
  "nbformat": 4,
  "nbformat_minor": 0,
  "metadata": {
    "colab": {
      "name": "impact(classication).ipynb",
      "provenance": [],
      "collapsed_sections": [],
      "include_colab_link": true
    },
    "kernelspec": {
      "name": "python3",
      "display_name": "Python 3"
    }
  },
  "cells": [
    {
      "cell_type": "markdown",
      "metadata": {
        "id": "view-in-github",
        "colab_type": "text"
      },
      "source": [
        "<a href=\"https://colab.research.google.com/github/ahmedshuvo969/Impace-Learning-comparision-with-kaggle-datasets/blob/master/impact(classication).ipynb\" target=\"_parent\"><img src=\"https://colab.research.google.com/assets/colab-badge.svg\" alt=\"Open In Colab\"/></a>"
      ]
    },
    {
      "cell_type": "code",
      "metadata": {
        "id": "68x9uZqZXWZ4",
        "colab_type": "code",
        "colab": {}
      },
      "source": [
        "# Importing the libraries\n",
        "import numpy as np\n",
        "import matplotlib.pyplot as plt\n",
        "import pandas as pd\n"
      ],
      "execution_count": 0,
      "outputs": []
    },
    {
      "cell_type": "code",
      "metadata": {
        "id": "OVy63_bJYgLN",
        "colab_type": "code",
        "outputId": "a7f8ac10-e39b-473d-89fd-26d4b28315e4",
        "colab": {
          "base_uri": "https://localhost:8080/",
          "height": 257
        }
      },
      "source": [
        "# Importing the dataset\n",
        "dataset = pd.read_csv('pima-indians-diabetes.csv')\n",
        "print(dataset)\n"
      ],
      "execution_count": 0,
      "outputs": [
        {
          "output_type": "stream",
          "text": [
            "      6  148  72  35    0  33.6  0.627  50  1\n",
            "0     1   85  66  29    0  26.6  0.351  31  0\n",
            "1     8  183  64   0    0  23.3  0.672  32  1\n",
            "2     1   89  66  23   94  28.1  0.167  21  0\n",
            "3     0  137  40  35  168  43.1  2.288  33  1\n",
            "4     5  116  74   0    0  25.6  0.201  30  0\n",
            "..   ..  ...  ..  ..  ...   ...    ...  .. ..\n",
            "762  10  101  76  48  180  32.9  0.171  63  0\n",
            "763   2  122  70  27    0  36.8  0.340  27  0\n",
            "764   5  121  72  23  112  26.2  0.245  30  0\n",
            "765   1  126  60   0    0  30.1  0.349  47  1\n",
            "766   1   93  70  31    0  30.4  0.315  23  0\n",
            "\n",
            "[767 rows x 9 columns]\n"
          ],
          "name": "stdout"
        }
      ]
    },
    {
      "cell_type": "code",
      "metadata": {
        "id": "vNtWZGE9Y3-y",
        "colab_type": "code",
        "colab": {}
      },
      "source": [
        "X = dataset.iloc[:, 0:8].values\n",
        "y = dataset.iloc[:, 8].values"
      ],
      "execution_count": 0,
      "outputs": []
    },
    {
      "cell_type": "code",
      "metadata": {
        "id": "UycO_eW9ZDgK",
        "colab_type": "code",
        "outputId": "aaacaaa7-3013-43bd-a0a4-764de2e4ad97",
        "colab": {
          "base_uri": "https://localhost:8080/",
          "height": 51
        }
      },
      "source": [
        "print(X[0])\n",
        "print(y[0])"
      ],
      "execution_count": 0,
      "outputs": [
        {
          "output_type": "stream",
          "text": [
            "[ 1.    85.    66.    29.     0.    26.6    0.351 31.   ]\n",
            "0\n"
          ],
          "name": "stdout"
        }
      ]
    },
    {
      "cell_type": "code",
      "metadata": {
        "id": "KMumnTNUZY_G",
        "colab_type": "code",
        "colab": {}
      },
      "source": [
        "# Splitting the dataset into the Training set and Test set\n",
        "from sklearn.model_selection import train_test_split\n",
        "X_train, X_test, y_train, y_test = train_test_split(X, y, test_size = 0.20, random_state = 0)\n"
      ],
      "execution_count": 0,
      "outputs": []
    },
    {
      "cell_type": "code",
      "metadata": {
        "id": "2mM2oeVaZxVg",
        "colab_type": "code",
        "colab": {}
      },
      "source": [
        "# Feature Scaling\n",
        "from sklearn.preprocessing import StandardScaler\n",
        "sc = StandardScaler()\n",
        "X_train = sc.fit_transform(X_train)\n",
        "X_test = sc.transform(X_test)"
      ],
      "execution_count": 0,
      "outputs": []
    },
    {
      "cell_type": "code",
      "metadata": {
        "id": "0IMScq4fZ5Fo",
        "colab_type": "code",
        "outputId": "a5edc6c5-7be7-4f8d-f053-d60921f6dcab",
        "colab": {
          "base_uri": "https://localhost:8080/",
          "height": 137
        }
      },
      "source": [
        "# Fitting Random Forest Classification to the Training set\n",
        "from sklearn.ensemble import RandomForestClassifier\n",
        "classifier = RandomForestClassifier(n_estimators = 10, criterion = 'entropy', random_state = 0)\n",
        "classifier.fit(X_train, y_train)"
      ],
      "execution_count": 0,
      "outputs": [
        {
          "output_type": "execute_result",
          "data": {
            "text/plain": [
              "RandomForestClassifier(bootstrap=True, class_weight=None, criterion='entropy',\n",
              "                       max_depth=None, max_features='auto', max_leaf_nodes=None,\n",
              "                       min_impurity_decrease=0.0, min_impurity_split=None,\n",
              "                       min_samples_leaf=1, min_samples_split=2,\n",
              "                       min_weight_fraction_leaf=0.0, n_estimators=10,\n",
              "                       n_jobs=None, oob_score=False, random_state=0, verbose=0,\n",
              "                       warm_start=False)"
            ]
          },
          "metadata": {
            "tags": []
          },
          "execution_count": 6
        }
      ]
    },
    {
      "cell_type": "code",
      "metadata": {
        "id": "uZ0Hql8JBhy9",
        "colab_type": "code",
        "colab": {}
      },
      "source": [
        ""
      ],
      "execution_count": 0,
      "outputs": []
    },
    {
      "cell_type": "code",
      "metadata": {
        "id": "et7ZwIHsZ-yo",
        "colab_type": "code",
        "colab": {}
      },
      "source": [
        "# Predicting the Test set results\n",
        "y_pred = classifier.predict(X_test)"
      ],
      "execution_count": 0,
      "outputs": []
    },
    {
      "cell_type": "code",
      "metadata": {
        "id": "RcY9Qb0faBYo",
        "colab_type": "code",
        "outputId": "a33bbaa2-c426-4423-da0b-005367620961",
        "colab": {
          "base_uri": "https://localhost:8080/",
          "height": 51
        }
      },
      "source": [
        "# Making the Confusion Matrix\n",
        "from sklearn.metrics import confusion_matrix\n",
        "cm = confusion_matrix(y_test, y_pred)\n",
        "from sklearn.metrics import f1_score\n",
        "f1 = f1_score(y_test, y_pred, average='macro')\n",
        "cm1 = (cm[0][0]+cm[1][1])/(cm[0][0]+cm[1][1]+cm[0][1]+cm[1][0])\n",
        "print(\"cm = \", cm1)\n",
        "print(\"f1 = \", f1)"
      ],
      "execution_count": 0,
      "outputs": [
        {
          "output_type": "stream",
          "text": [
            "cm =  0.7467532467532467\n",
            "f1 =  0.6996249062265566\n"
          ],
          "name": "stdout"
        }
      ]
    },
    {
      "cell_type": "code",
      "metadata": {
        "id": "7CHd9mhOakru",
        "colab_type": "code",
        "outputId": "f56e369d-e6a2-4e1f-f273-cd135c0cddd6",
        "colab": {
          "base_uri": "https://localhost:8080/",
          "height": 51
        }
      },
      "source": [
        "X_train[0]"
      ],
      "execution_count": 0,
      "outputs": [
        {
          "output_type": "execute_result",
          "data": {
            "text/plain": [
              "array([ 0.06649666,  1.92987383, -3.48834088, -1.30832879, -0.69078054,\n",
              "       -0.47057917, -0.76640618,  0.23925174])"
            ]
          },
          "metadata": {
            "tags": []
          },
          "execution_count": 9
        }
      ]
    },
    {
      "cell_type": "code",
      "metadata": {
        "id": "g0S9PC7idTf6",
        "colab_type": "code",
        "colab": {}
      },
      "source": [
        "y1 = X_train[:, 0]\n",
        "y2 = X_train[:, 1]\n",
        "y3 = X_train[:, 2]\n",
        "y4 = X_train[:, 3]\n",
        "y5 = X_train[:, 4]\n",
        "y6 = X_train[:, 5]\n",
        "y7 = X_train[:, 6]\n",
        "y8 = X_train[:, 7]\n"
      ],
      "execution_count": 0,
      "outputs": []
    },
    {
      "cell_type": "code",
      "metadata": {
        "id": "zI1fNlfQdvX3",
        "colab_type": "code",
        "outputId": "71786711-5039-456a-8562-6fe15f76c23e",
        "colab": {
          "base_uri": "https://localhost:8080/",
          "height": 34
        }
      },
      "source": [
        "print(y8[0])"
      ],
      "execution_count": 0,
      "outputs": [
        {
          "output_type": "stream",
          "text": [
            "0.23925173791884083\n"
          ],
          "name": "stdout"
        }
      ]
    },
    {
      "cell_type": "code",
      "metadata": {
        "id": "3zqQIV2ceh3I",
        "colab_type": "code",
        "colab": {}
      },
      "source": [
        "yt1 = X_test[:, 0]\n",
        "yt2 = X_test[:, 1]\n",
        "yt3 = X_test[:, 2]\n",
        "yt4 = X_test[:, 3]\n",
        "yt5 = X_test[:, 4]\n",
        "yt6 = X_test[:, 5]\n",
        "yt7 = X_test[:, 6]\n",
        "yt8 = X_test[:, 7]\n"
      ],
      "execution_count": 0,
      "outputs": []
    },
    {
      "cell_type": "code",
      "metadata": {
        "id": "skjpHu1fcdDs",
        "colab_type": "code",
        "colab": {}
      },
      "source": [
        "\n",
        "\n",
        "\n",
        "from scipy.optimize import curve_fit\n",
        "\n",
        "def test_func1(X, a, b, c, d, e, f, g, h, i, j):\n",
        "    y1, y2, y3, y4, y5, y6, y7, y8 = X\n",
        "\n",
        "    return ((1/(b))*(a-c*y1-d*y2-e*y3-f*y4-g*y5-h*y6-i*y7-j*y8)) \n",
        "p0 = [2, 2, 2, 2, 2, 2, 2, 2, 2, 2]        # initial guesses\n",
        "c,cov = curve_fit(test_func1, (y1, y2, y3, y4, y5, y6, y7, y8), y_train, p0)  # fit model\n",
        "\n",
        "\n"
      ],
      "execution_count": 0,
      "outputs": []
    },
    {
      "cell_type": "code",
      "metadata": {
        "id": "FRCZdOvOgDhG",
        "colab_type": "code",
        "colab": {}
      },
      "source": [
        "yx = test_func1((yt1, yt2, yt3, yt4, yt5, yt6, yt7, yt8),c[0],c[1],c[2],c[3],c[4],c[5],c[6], c[7],c[8],c[9])\n"
      ],
      "execution_count": 0,
      "outputs": []
    },
    {
      "cell_type": "code",
      "metadata": {
        "id": "4G7h_2xkMl-3",
        "colab_type": "code",
        "outputId": "2a945631-dbd3-4cf5-8bd7-c84adf74d3cc",
        "colab": {
          "base_uri": "https://localhost:8080/",
          "height": 34
        }
      },
      "source": [
        "mi = 1\n",
        "mx = 0\n",
        "su = 0\n",
        "for i in range(len(yx)):\n",
        "  if yx[i]>mx:\n",
        "    mx = yx[i]\n",
        "  if yx[i]<mi:\n",
        "    mi = yx[i]\n",
        "  su = su + yx[i]\n",
        "print(mx, mi, (mx + mi), su/len(yx))"
      ],
      "execution_count": 0,
      "outputs": [
        {
          "output_type": "stream",
          "text": [
            "0.9548789030482877 -0.5211596475298211 0.4337192555184666 0.330150670622685\n"
          ],
          "name": "stdout"
        }
      ]
    },
    {
      "cell_type": "code",
      "metadata": {
        "id": "PyWuzd_cfLo2",
        "colab_type": "code",
        "colab": {}
      },
      "source": [
        "t_data = []\n",
        "for i in range(len(yx)):\n",
        "  if yx[i]>0.4:\n",
        "    t_data.append(1)\n",
        "  else:\n",
        "    t_data.append(0)\n",
        "\n"
      ],
      "execution_count": 0,
      "outputs": []
    },
    {
      "cell_type": "code",
      "metadata": {
        "id": "1wEOx0F_fi2x",
        "colab_type": "code",
        "outputId": "c2c98a8a-8d01-45d6-b316-30eedc56c2a7",
        "colab": {
          "base_uri": "https://localhost:8080/",
          "height": 86
        }
      },
      "source": [
        "# Making the Confusion Matrix\n",
        "from sklearn.metrics import confusion_matrix\n",
        "cm = confusion_matrix(y_test, t_data)\n",
        "from sklearn.metrics import f1_score\n",
        "f1 = f1_score(y_test, t_data, average='macro')\n",
        "cm1 = (cm[0][0]+cm[1][1])/(cm[0][0]+cm[1][1]+cm[0][1]+cm[1][0])\n",
        "print(\"cm = \", cm1)\n",
        "print(cm)\n",
        "print(\"f1 = \", f1)"
      ],
      "execution_count": 0,
      "outputs": [
        {
          "output_type": "stream",
          "text": [
            "cm =  0.7857142857142857\n",
            "[[85 16]\n",
            " [17 36]]\n",
            "f1 =  0.7615763546798029\n"
          ],
          "name": "stdout"
        }
      ]
    },
    {
      "cell_type": "code",
      "metadata": {
        "id": "8v5sES77BkAy",
        "colab_type": "code",
        "colab": {}
      },
      "source": [
        "# Fitting Kernel SVM to the Training set\n",
        "from sklearn.svm import SVC\n",
        "classifier = SVC(kernel = 'rbf', random_state = 0)\n",
        "classifier.fit(X_train, y_train)\n",
        "\n",
        "# Predicting the Test set results\n",
        "y_pred = classifier.predict(X_test)"
      ],
      "execution_count": 0,
      "outputs": []
    },
    {
      "cell_type": "code",
      "metadata": {
        "id": "grTOQie0BxAH",
        "colab_type": "code",
        "outputId": "0aee6e4f-25db-4623-a712-453fcbf33618",
        "colab": {
          "base_uri": "https://localhost:8080/",
          "height": 51
        }
      },
      "source": [
        "# Making the Confusion Matrix\n",
        "from sklearn.metrics import confusion_matrix\n",
        "cm = confusion_matrix(y_test, y_pred)\n",
        "from sklearn.metrics import f1_score\n",
        "f1 = f1_score(y_test, y_pred, average='macro')\n",
        "cm1 = (cm[0][0]+cm[1][1])/(cm[0][0]+cm[1][1]+cm[0][1]+cm[1][0])\n",
        "print(\"cm = \", cm1)\n",
        "print(\"f1 = \", f1)"
      ],
      "execution_count": 0,
      "outputs": [
        {
          "output_type": "stream",
          "text": [
            "cm =  0.7727272727272727\n",
            "f1 =  0.7196650543506528\n"
          ],
          "name": "stdout"
        }
      ]
    },
    {
      "cell_type": "code",
      "metadata": {
        "id": "i2JJ-iUTCDJX",
        "colab_type": "code",
        "colab": {}
      },
      "source": [
        "# Fitting Naive Bayes to the Training set\n",
        "from sklearn.naive_bayes import GaussianNB\n",
        "classifier = GaussianNB()\n",
        "classifier.fit(X_train, y_train)\n",
        "\n",
        "# Predicting the Test set results\n",
        "y_pred = classifier.predict(X_test)\n"
      ],
      "execution_count": 0,
      "outputs": []
    },
    {
      "cell_type": "code",
      "metadata": {
        "id": "p-OiZzVqCJ5w",
        "colab_type": "code",
        "outputId": "523d95eb-8726-404d-cde4-985f80aafd51",
        "colab": {
          "base_uri": "https://localhost:8080/",
          "height": 51
        }
      },
      "source": [
        "# Making the Confusion Matrix\n",
        "from sklearn.metrics import confusion_matrix\n",
        "cm = confusion_matrix(y_test, y_pred)\n",
        "from sklearn.metrics import f1_score\n",
        "f1 = f1_score(y_test, y_pred, average='macro')\n",
        "cm1 = (cm[0][0]+cm[1][1])/(cm[0][0]+cm[1][1]+cm[0][1]+cm[1][0])\n",
        "print(\"cm = \", cm1)\n",
        "print(\"f1 = \", f1)"
      ],
      "execution_count": 0,
      "outputs": [
        {
          "output_type": "stream",
          "text": [
            "cm =  0.8051948051948052\n",
            "f1 =  0.7778846153846153\n"
          ],
          "name": "stdout"
        }
      ]
    },
    {
      "cell_type": "code",
      "metadata": {
        "id": "J1onVS9-DPdX",
        "colab_type": "code",
        "outputId": "02624836-19d5-4f18-a82f-667993d08542",
        "colab": {
          "base_uri": "https://localhost:8080/",
          "height": 71
        }
      },
      "source": [
        "# Fitting Logistic Regression to the Training set\n",
        "from sklearn.linear_model import LogisticRegression\n",
        "classifier = LogisticRegression(random_state = 0)\n",
        "classifier.fit(X_train, y_train)\n",
        "\n",
        "# Predicting the Test set results\n",
        "y_pred = classifier.predict(X_test)\n"
      ],
      "execution_count": 0,
      "outputs": [
        {
          "output_type": "stream",
          "text": [
            "/usr/local/lib/python3.6/dist-packages/sklearn/linear_model/logistic.py:432: FutureWarning: Default solver will be changed to 'lbfgs' in 0.22. Specify a solver to silence this warning.\n",
            "  FutureWarning)\n"
          ],
          "name": "stderr"
        }
      ]
    },
    {
      "cell_type": "code",
      "metadata": {
        "id": "ph3OpdAHDEdY",
        "colab_type": "code",
        "outputId": "7702761b-1f4a-439d-de20-d8d242916035",
        "colab": {
          "base_uri": "https://localhost:8080/",
          "height": 51
        }
      },
      "source": [
        "# Making the Confusion Matrix\n",
        "from sklearn.metrics import confusion_matrix\n",
        "cm = confusion_matrix(y_test, y_pred)\n",
        "from sklearn.metrics import f1_score\n",
        "f1 = f1_score(y_test, y_pred, average='macro')\n",
        "cm1 = (cm[0][0]+cm[1][1])/(cm[0][0]+cm[1][1]+cm[0][1]+cm[1][0])\n",
        "print(\"cm = \", cm1)\n",
        "print(\"f1 = \", f1)"
      ],
      "execution_count": 0,
      "outputs": [
        {
          "output_type": "stream",
          "text": [
            "cm =  0.7792207792207793\n",
            "f1 =  0.7397096838337641\n"
          ],
          "name": "stdout"
        }
      ]
    },
    {
      "cell_type": "code",
      "metadata": {
        "id": "e0Cjq9C4Di1R",
        "colab_type": "code",
        "colab": {}
      },
      "source": [
        "# Fitting K-NN to the Training set\n",
        "from sklearn.neighbors import KNeighborsClassifier\n",
        "classifier = KNeighborsClassifier(n_neighbors = 5, metric = 'minkowski', p = 2)\n",
        "classifier.fit(X_train, y_train)\n",
        "\n",
        "\n",
        "\n",
        "# Predicting the Test set results\n",
        "y_pred = classifier.predict(X_test)"
      ],
      "execution_count": 0,
      "outputs": []
    },
    {
      "cell_type": "code",
      "metadata": {
        "id": "s4Q8jDdfDLHN",
        "colab_type": "code",
        "outputId": "14a6e8cd-6cb3-48b2-8f34-0c869f61e3f0",
        "colab": {
          "base_uri": "https://localhost:8080/",
          "height": 51
        }
      },
      "source": [
        "# Making the Confusion Matrix\n",
        "from sklearn.metrics import confusion_matrix\n",
        "cm = confusion_matrix(y_test, y_pred)\n",
        "from sklearn.metrics import f1_score\n",
        "f1 = f1_score(y_test, y_pred, average='macro')\n",
        "cm1 = (cm[0][0]+cm[1][1])/(cm[0][0]+cm[1][1]+cm[0][1]+cm[1][0])\n",
        "print(\"cm = \", cm1)\n",
        "print(\"f1 = \", f1)"
      ],
      "execution_count": 0,
      "outputs": [
        {
          "output_type": "stream",
          "text": [
            "cm =  0.7532467532467533\n",
            "f1 =  0.7055152979066024\n"
          ],
          "name": "stdout"
        }
      ]
    },
    {
      "cell_type": "code",
      "metadata": {
        "id": "YUGGbuL5D4wj",
        "colab_type": "code",
        "colab": {}
      },
      "source": [
        "# Fitting Decision Tree Classification to the Training set\n",
        "from sklearn.tree import DecisionTreeClassifier\n",
        "classifier = DecisionTreeClassifier(criterion = 'entropy', random_state = 0)\n",
        "classifier.fit(X_train, y_train)\n",
        "\n",
        "# Predicting the Test set results\n",
        "y_pred = classifier.predict(X_test)\n",
        "\n",
        "# Making the Confusion Matrix\n",
        "from sklearn.metrics import confusion_matrix\n",
        "cm = confusion_matrix(y_test, y_pred)\n"
      ],
      "execution_count": 0,
      "outputs": []
    },
    {
      "cell_type": "code",
      "metadata": {
        "id": "FsnQfGmsDLo_",
        "colab_type": "code",
        "outputId": "00385b6f-bd5d-46c7-8ef0-a6bd135a5d2a",
        "colab": {
          "base_uri": "https://localhost:8080/",
          "height": 51
        }
      },
      "source": [
        "# Making the Confusion Matrix\n",
        "from sklearn.metrics import confusion_matrix\n",
        "cm = confusion_matrix(y_test, y_pred)\n",
        "from sklearn.metrics import f1_score\n",
        "f1 = f1_score(y_test, y_pred, average='macro')\n",
        "cm1 = (cm[0][0]+cm[1][1])/(cm[0][0]+cm[1][1]+cm[0][1]+cm[1][0])\n",
        "print(\"cm = \", cm1)\n",
        "print(\"f1 = \", f1)"
      ],
      "execution_count": 0,
      "outputs": [
        {
          "output_type": "stream",
          "text": [
            "cm =  0.7467532467532467\n",
            "f1 =  0.7097288676236044\n"
          ],
          "name": "stdout"
        }
      ]
    },
    {
      "cell_type": "code",
      "metadata": {
        "id": "Ifu1tX4hECJc",
        "colab_type": "code",
        "outputId": "3a23c4db-8cf0-423e-eaf4-22c98ca0878a",
        "colab": {
          "base_uri": "https://localhost:8080/",
          "height": 51
        }
      },
      "source": [
        "cm1 = (cm[0][0]+cm[1][1])/(cm[0][0]+cm[1][1]+cm[0][1]+cm[1][0])\n",
        "print(cm)"
      ],
      "execution_count": 0,
      "outputs": [
        {
          "output_type": "stream",
          "text": [
            "[[99 32]\n",
            " [34 27]]\n"
          ],
          "name": "stdout"
        }
      ]
    }
  ]
}